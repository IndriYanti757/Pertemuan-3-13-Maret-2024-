{
 "cells": [
  {
   "cell_type": "markdown",
   "metadata": {},
   "source": [
    "\n",
    "## Python Function & Module \n",
    "\n",
    "* hitung_luas = p x l\n",
    "* hitung_luas = 10 x 2\n",
    "* hitung_luas = 20\n",
    "\n",
    "def hitung_luas(p,l) -> hitung_luas itu nama function\n",
    "\n",
    "dalam python untuk membuat fungsi pakai def\n",
    "\n",
    "print() ---> untuk mencetak\n",
    "\n",
    "range() ---> untuk bantu looping menggunakan for loop"
   ]
  },
  {
   "cell_type": "code",
   "execution_count": 3,
   "metadata": {},
   "outputs": [],
   "source": [
    "# Membuat Function\n",
    "def hitung_luas(p,l):\n",
    "    return p*l    # return menunjukkan akhir dari function\n"
   ]
  },
  {
   "cell_type": "code",
   "execution_count": 4,
   "metadata": {},
   "outputs": [
    {
     "data": {
      "text/plain": [
       "20"
      ]
     },
     "execution_count": 4,
     "metadata": {},
     "output_type": "execute_result"
    }
   ],
   "source": [
    "# Memanggil Function\n",
    "hitung_luas(10,2)   # function di atas harus dirunning dulu"
   ]
  },
  {
   "cell_type": "code",
   "execution_count": 9,
   "metadata": {},
   "outputs": [
    {
     "data": {
      "text/plain": [
       "50.24"
      ]
     },
     "execution_count": 9,
     "metadata": {},
     "output_type": "execute_result"
    }
   ],
   "source": [
    "# membuat function luas lingkaran\n",
    "def hitung_luas_lingkaran(r):\n",
    "    pi = 3.14\n",
    "    return pi*r**2\n",
    "\n",
    "# memanggil function\n",
    "hitung_luas_lingkaran(4)"
   ]
  },
  {
   "cell_type": "code",
   "execution_count": 7,
   "metadata": {},
   "outputs": [
    {
     "name": "stdout",
     "output_type": "stream",
     "text": [
      "luas lingkarannya=50.24\n"
     ]
    }
   ],
   "source": [
    "# membuat function luas lingkaran\n",
    "def hitung_luas_lingkaran(r):\n",
    "    pi = 3.14\n",
    "    luas = pi*r**2   #-->  local variable\n",
    "    print(f'luas lingkarannya={luas}')\n",
    "\n",
    "# memanggil function\n",
    "hitung_luas_lingkaran(4)"
   ]
  },
  {
   "cell_type": "markdown",
   "metadata": {},
   "source": [
    "Local varaibel hanya ada di dalam function, tidak bisa dipanggil di luar function, buktinya:"
   ]
  },
  {
   "cell_type": "code",
   "execution_count": 10,
   "metadata": {},
   "outputs": [
    {
     "ename": "NameError",
     "evalue": "name 'luas' is not defined",
     "output_type": "error",
     "traceback": [
      "\u001b[1;31m---------------------------------------------------------------------------\u001b[0m",
      "\u001b[1;31mNameError\u001b[0m                                 Traceback (most recent call last)",
      "Cell \u001b[1;32mIn[10], line 1\u001b[0m\n\u001b[1;32m----> 1\u001b[0m \u001b[43mluas\u001b[49m\n",
      "\u001b[1;31mNameError\u001b[0m: name 'luas' is not defined"
     ]
    }
   ],
   "source": [
    "luas"
   ]
  },
  {
   "cell_type": "markdown",
   "metadata": {},
   "source": [
    "Global variabel itu di luar function. Biasanya posisinya sejajar dengan def."
   ]
  },
  {
   "cell_type": "markdown",
   "metadata": {},
   "source": [
    "Menghitung debit air:\n",
    "Q = Volume/waktu\n",
    "\n",
    "Volume = panjang x lebar x tinggi"
   ]
  },
  {
   "cell_type": "code",
   "execution_count": 11,
   "metadata": {},
   "outputs": [
    {
     "data": {
      "text/plain": [
       "4.0"
      ]
     },
     "execution_count": 11,
     "metadata": {},
     "output_type": "execute_result"
    }
   ],
   "source": [
    "# Buat function debit air\n",
    "\n",
    "def Q(p, l, t, waktu):\n",
    "    vol = volume(p,l,t)\n",
    "    return vol/waktu\n",
    "Q(2,2,2,2)"
   ]
  },
  {
   "cell_type": "markdown",
   "metadata": {},
   "source": [
    "Variable-Length Argument\n",
    "Tuple () -->*\n",
    "\n",
    "Dictionary {} -->**\n",
    "\n",
    "pada dictionary {keys:value}\n",
    "\n",
    "lambda : function pengganti, pemisahnya itu titik dua :\n",
    "lambda adalah anonymous function\n",
    "\n",
    "* kalau pakai lambda\n",
    "penjumlahan = lambda x1, x2: x1 + x2\n",
    "\n",
    "x1, x2 sebelum titik dua adalah parameternya.\n",
    "\n",
    "* kalau pakai def:\n",
    "def penjumlahan (x1, x2):\n",
    "    return x1 + x2"
   ]
  },
  {
   "cell_type": "markdown",
   "metadata": {},
   "source": [
    "### Latihan Soal"
   ]
  },
  {
   "cell_type": "code",
   "execution_count": 14,
   "metadata": {},
   "outputs": [],
   "source": [
    "# No.1\n",
    "def tampilkan_plus(n):\n",
    "    if n > 0:\n",
    "        print(n*'+ \\n')\n",
    "    else:\n",
    "        print('Input Salah')"
   ]
  },
  {
   "cell_type": "code",
   "execution_count": 15,
   "metadata": {},
   "outputs": [
    {
     "name": "stdout",
     "output_type": "stream",
     "text": [
      "+ \n",
      "+ \n",
      "+ \n",
      "\n"
     ]
    }
   ],
   "source": [
    "tampilkan_plus(3)"
   ]
  },
  {
   "cell_type": "code",
   "execution_count": 17,
   "metadata": {},
   "outputs": [],
   "source": [
    "# No.2\n",
    "def tampilkan_genap(*daftar_angka):   # * args, karena dalam bentuk list\n",
    "    hasil = []                  # bikin penampung untuk loop, ini sebagai local variabel. Kalau buat for loop harus ada penampung list kosong\n",
    "    for i in daftar_angka:      # pakai for karena dalam bentuk list angkanya\n",
    "        if i == 0 or i %2 != 0:\n",
    "            pass\n",
    "        elif i %2 == 0:\n",
    "            hasil.append(i)  # append itu sama dengan +=\n",
    "    print(hasil)\n",
    "\n",
    "    # kalau hasil = []\n",
    "    # maka pakai hasil.append(i)\n",
    "\n",
    "    # kalau hasil =0\n",
    "    # maka pakai +="
   ]
  },
  {
   "cell_type": "code",
   "execution_count": 19,
   "metadata": {},
   "outputs": [
    {
     "name": "stdout",
     "output_type": "stream",
     "text": [
      "[-10, -8]\n"
     ]
    }
   ],
   "source": [
    "tampilkan_genap(-10,-9,-8,-7)"
   ]
  },
  {
   "cell_type": "code",
   "execution_count": 20,
   "metadata": {},
   "outputs": [],
   "source": [
    "# Atau:\n",
    "def tampilkan_genap(*daftar_angka):   # * args, karena dalam bentuk list\n",
    "    hasil = []                  # bikin penampung untuk loop, ini sebagai local variabel. Kalau buat for loop harus ada penampung list kosong\n",
    "    for i in daftar_angka:      # pakai for karena dalam bentuk list angkanya\n",
    "        if i == 0 or i %2 != 0:\n",
    "            pass\n",
    "        else:\n",
    "            hasil.append(i)  # append itu sama dengan +=\n",
    "    print(hasil)"
   ]
  },
  {
   "cell_type": "code",
   "execution_count": 21,
   "metadata": {},
   "outputs": [
    {
     "name": "stdout",
     "output_type": "stream",
     "text": [
      "[2, 4]\n"
     ]
    }
   ],
   "source": [
    "tampilkan_genap(1,2,3,4,5)"
   ]
  },
  {
   "cell_type": "code",
   "execution_count": 23,
   "metadata": {},
   "outputs": [
    {
     "name": "stdout",
     "output_type": "stream",
     "text": [
      "[]\n"
     ]
    }
   ],
   "source": [
    "#  Kalau gak pakai function\n",
    "hasil = []\n",
    "for i in (0,1,3,5,7,9):\n",
    "    if i == 0 or i %2 != 0:\n",
    "         pass\n",
    "    else:\n",
    "        hasil.append(i)\n",
    "\n",
    "print(hasil)"
   ]
  },
  {
   "cell_type": "code",
   "execution_count": null,
   "metadata": {},
   "outputs": [],
   "source": [
    "# Tambahan:\n",
    "import numpy as np"
   ]
  },
  {
   "cell_type": "code",
   "execution_count": null,
   "metadata": {},
   "outputs": [],
   "source": [
    "def convert(list):\n",
    "    return tuple(list)\n",
    "variable_tuple = p"
   ]
  },
  {
   "cell_type": "code",
   "execution_count": null,
   "metadata": {},
   "outputs": [],
   "source": [
    "\n",
    "def tampil_30_sd_40(*num):\n",
    "    hasil = []\n",
    "    for i in num:\n",
    "        if 30<= i <=40:\n",
    "            hasil.append(i)\n",
    "        else: \n",
    "            pass\n",
    "    print(hasil)\n",
    "\n",
    "tamp"
   ]
  },
  {
   "cell_type": "code",
   "execution_count": 24,
   "metadata": {},
   "outputs": [],
   "source": [
    "# No.3\n",
    "\n",
    "def tampilkan_negara(nama,negara='Indonesia'):\n",
    "    print(f'Halo {nama} dari {negara}')  # f menunjukan format string (cara 1)\n",
    "    #print('Halo, nama, 'dari,negara)  #cara 2 manual\n",
    "    #formal string menggunakan dictionary {}"
   ]
  },
  {
   "cell_type": "code",
   "execution_count": 26,
   "metadata": {},
   "outputs": [
    {
     "name": "stdout",
     "output_type": "stream",
     "text": [
      "Halo Frank dari USA\n",
      "Halo Smith dari Jerman\n",
      "Halo Anton dari Indonesia\n"
     ]
    },
    {
     "ename": "TypeError",
     "evalue": "tampilkan_negara() missing 1 required positional argument: 'nama'",
     "output_type": "error",
     "traceback": [
      "\u001b[1;31m---------------------------------------------------------------------------\u001b[0m",
      "\u001b[1;31mTypeError\u001b[0m                                 Traceback (most recent call last)",
      "Cell \u001b[1;32mIn[26], line 4\u001b[0m\n\u001b[0;32m      2\u001b[0m tampilkan_negara(nama\u001b[38;5;241m=\u001b[39m\u001b[38;5;124m'\u001b[39m\u001b[38;5;124mSmith\u001b[39m\u001b[38;5;124m'\u001b[39m,negara\u001b[38;5;241m=\u001b[39m\u001b[38;5;124m'\u001b[39m\u001b[38;5;124mJerman\u001b[39m\u001b[38;5;124m'\u001b[39m)\n\u001b[0;32m      3\u001b[0m tampilkan_negara(nama\u001b[38;5;241m=\u001b[39m\u001b[38;5;124m'\u001b[39m\u001b[38;5;124mAnton\u001b[39m\u001b[38;5;124m'\u001b[39m)\n\u001b[1;32m----> 4\u001b[0m \u001b[43mtampilkan_negara\u001b[49m\u001b[43m(\u001b[49m\u001b[43mnegara\u001b[49m\u001b[38;5;241;43m=\u001b[39;49m\u001b[38;5;124;43m'\u001b[39;49m\u001b[38;5;124;43mSingapura\u001b[39;49m\u001b[38;5;124;43m'\u001b[39;49m\u001b[43m)\u001b[49m\n",
      "\u001b[1;31mTypeError\u001b[0m: tampilkan_negara() missing 1 required positional argument: 'nama'"
     ]
    }
   ],
   "source": [
    "tampilkan_negara(nama='Frank', negara='USA')\n",
    "tampilkan_negara(nama='Smith',negara='Jerman')\n",
    "tampilkan_negara(nama='Anton')\n",
    "tampilkan_negara(negara='Singapura')"
   ]
  },
  {
   "cell_type": "code",
   "execution_count": 33,
   "metadata": {},
   "outputs": [],
   "source": [
    "# No.4\n",
    "def rumus_math(mode, bilangan_1=0, bilangan_2=0):  #bilangan_1 = 0 adalah default argument jadi kalau tidak diinput maka automatis langsung 0. Keterangan bilangan_2 juga sama\n",
    "    if mode.lower() == 'persegi':  # pakai lower apapun yang diinput akan tetap lower case\n",
    "        if bilangan_1 == 0 and bilangan_2 ==0:\n",
    "            print('Input harus ada angka')\n",
    "        elif bilangan_1 == 0:\n",
    "            print('Input harus ada bilangan_1')\n",
    "        elif bilangan_2 == 0:\n",
    "            luas = bilangan_1 * bilangan_1\n",
    "            print(luas)\n",
    "        else:\n",
    "            luas = bilangan_1 * bilangan_2\n",
    "            print(luas)\n",
    "\n",
    "    if mode.lower() == 'segitiga':  # pakai lower apapun yang diinput akan tetap lower case\n",
    "        if bilangan_1 == 0 and bilangan_2 ==0:\n",
    "            print('Input harus ada angka')\n",
    "        elif bilangan_1 == 0:\n",
    "            print('Input harus ada bilangan_1')\n",
    "        elif bilangan_2 == 0:\n",
    "            luas = bilangan_1 * bilangan_1/2\n",
    "            print(luas)\n",
    "        else:\n",
    "            luas = bilangan_1 * bilangan_2/2\n",
    "            print(luas)\n"
   ]
  },
  {
   "cell_type": "code",
   "execution_count": 34,
   "metadata": {},
   "outputs": [
    {
     "name": "stdout",
     "output_type": "stream",
     "text": [
      "Input harus ada bilangan_1\n"
     ]
    }
   ],
   "source": [
    "# rumus_math('persegi', 10, 20)\n",
    "# rumus_math('persegi')\n",
    "# rumus_math('segitiga', 10, 20)\n",
    "# rumus_math('persegi', bilangan_1 = 10)\n",
    "rumus_math('persegi', bilangan_2 =10)"
   ]
  },
  {
   "cell_type": "code",
   "execution_count": 35,
   "metadata": {},
   "outputs": [],
   "source": [
    "# No.5\n",
    "def cetak_angka(posisi, *daftar_angka):\n",
    "    panjang_list = len(daftar_angka)\n",
    "    if panjang_list < posisi:\n",
    "        output = -1\n",
    "    else:\n",
    "        output = daftar_angka[posisi]\n",
    "    return output"
   ]
  },
  {
   "cell_type": "code",
   "execution_count": 37,
   "metadata": {},
   "outputs": [
    {
     "data": {
      "text/plain": [
       "-1"
      ]
     },
     "execution_count": 37,
     "metadata": {},
     "output_type": "execute_result"
    }
   ],
   "source": [
    "#cetak_angka(3,10,20,30,40)\n",
    "cetak_angka(4,200,300,-400)"
   ]
  },
  {
   "cell_type": "markdown",
   "metadata": {},
   "source": [
    "## B. Modules\n",
    "\n"
   ]
  },
  {
   "cell_type": "code",
   "execution_count": 38,
   "metadata": {},
   "outputs": [],
   "source": [
    "import mod as m"
   ]
  }
 ],
 "metadata": {
  "kernelspec": {
   "display_name": "base",
   "language": "python",
   "name": "python3"
  },
  "language_info": {
   "codemirror_mode": {
    "name": "ipython",
    "version": 3
   },
   "file_extension": ".py",
   "mimetype": "text/x-python",
   "name": "python",
   "nbconvert_exporter": "python",
   "pygments_lexer": "ipython3",
   "version": "3.11.5"
  }
 },
 "nbformat": 4,
 "nbformat_minor": 2
}
